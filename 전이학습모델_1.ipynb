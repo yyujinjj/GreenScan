{
 "cells": [
  {
   "cell_type": "markdown",
   "id": "df48d47b",
   "metadata": {},
   "source": [
    "라이브러리"
   ]
  },
  {
   "cell_type": "code",
   "execution_count": 17,
   "id": "6978a011",
   "metadata": {},
   "outputs": [
    {
     "name": "stdout",
     "output_type": "stream",
     "text": [
      "setup successful!\n"
     ]
    }
   ],
   "source": [
    "import numpy as np\n",
    "import pandas as pd\n",
    "import random\n",
    "import os\n",
    "import matplotlib.pyplot as plt\n",
    "import seaborn as sns\n",
    "import keras.applications.xception as xception\n",
    "import zipfile\n",
    "import sys\n",
    "import time\n",
    "import tensorflow.keras as keras\n",
    "import tensorflow as tf\n",
    "import re\n",
    "\n",
    "from PIL import Image\n",
    "from keras.layers import Input, Conv2D, Dense, Flatten, MaxPooling2D, Input, GlobalAveragePooling2D\n",
    "from keras.layers import Normalization # 이 부분 tensorflow 버전때문에 오류 떠서 바꿈\n",
    "from keras.models import Model, Sequential\n",
    "from keras.preprocessing import image\n",
    "from keras.utils import to_categorical\n",
    "from keras.layers import Lambda\n",
    "from keras.callbacks import EarlyStopping\n",
    "from sklearn.model_selection import train_test_split\n",
    "from sklearn.metrics import classification_report\n",
    "\n",
    "print('setup successful!')"
   ]
  },
  {
   "cell_type": "markdown",
   "id": "976dff0f",
   "metadata": {},
   "source": [
    "이미지를 저장할 파일의 경로 설정"
   ]
  },
  {
   "cell_type": "code",
   "execution_count": 18,
   "id": "4c1156d5",
   "metadata": {},
   "outputs": [],
   "source": [
    "target_dir = './캡스톤폴더/images3'"
   ]
  },
  {
   "cell_type": "code",
   "execution_count": 20,
   "id": "5c5a704e",
   "metadata": {},
   "outputs": [
    {
     "data": {
      "text/html": [
       "<div>\n",
       "<style scoped>\n",
       "    .dataframe tbody tr th:only-of-type {\n",
       "        vertical-align: middle;\n",
       "    }\n",
       "\n",
       "    .dataframe tbody tr th {\n",
       "        vertical-align: top;\n",
       "    }\n",
       "\n",
       "    .dataframe thead th {\n",
       "        text-align: right;\n",
       "    }\n",
       "</style>\n",
       "<table border=\"1\" class=\"dataframe\">\n",
       "  <thead>\n",
       "    <tr style=\"text-align: right;\">\n",
       "      <th></th>\n",
       "      <th>filename</th>\n",
       "    </tr>\n",
       "  </thead>\n",
       "  <tbody>\n",
       "    <tr>\n",
       "      <th>0</th>\n",
       "      <td>battery1.jpg</td>\n",
       "    </tr>\n",
       "    <tr>\n",
       "      <th>1</th>\n",
       "      <td>battery10.jpg</td>\n",
       "    </tr>\n",
       "    <tr>\n",
       "      <th>2</th>\n",
       "      <td>battery100.jpg</td>\n",
       "    </tr>\n",
       "    <tr>\n",
       "      <th>3</th>\n",
       "      <td>battery101.jpg</td>\n",
       "    </tr>\n",
       "    <tr>\n",
       "      <th>4</th>\n",
       "      <td>battery102.jpg</td>\n",
       "    </tr>\n",
       "    <tr>\n",
       "      <th>...</th>\n",
       "      <td>...</td>\n",
       "    </tr>\n",
       "    <tr>\n",
       "      <th>13499</th>\n",
       "      <td>trash95.jpg</td>\n",
       "    </tr>\n",
       "    <tr>\n",
       "      <th>13500</th>\n",
       "      <td>trash96.jpg</td>\n",
       "    </tr>\n",
       "    <tr>\n",
       "      <th>13501</th>\n",
       "      <td>trash97.jpg</td>\n",
       "    </tr>\n",
       "    <tr>\n",
       "      <th>13502</th>\n",
       "      <td>trash98.jpg</td>\n",
       "    </tr>\n",
       "    <tr>\n",
       "      <th>13503</th>\n",
       "      <td>trash99.jpg</td>\n",
       "    </tr>\n",
       "  </tbody>\n",
       "</table>\n",
       "<p>13504 rows × 1 columns</p>\n",
       "</div>"
      ],
      "text/plain": [
       "             filename\n",
       "0        battery1.jpg\n",
       "1       battery10.jpg\n",
       "2      battery100.jpg\n",
       "3      battery101.jpg\n",
       "4      battery102.jpg\n",
       "...               ...\n",
       "13499     trash95.jpg\n",
       "13500     trash96.jpg\n",
       "13501     trash97.jpg\n",
       "13502     trash98.jpg\n",
       "13503     trash99.jpg\n",
       "\n",
       "[13504 rows x 1 columns]"
      ]
     },
     "execution_count": 20,
     "metadata": {},
     "output_type": "execute_result"
    }
   ],
   "source": [
    "# 파일 목록을 가져옵니다.\n",
    "file_list = os.listdir(\"C:\\\\Users\\\\82106\\\\캡스톤\\\\캡스톤폴더\\\\images3\")\n",
    "\n",
    "# 파일 목록을 데이터프레임으로 변환합니다.\n",
    "df_files = pd.DataFrame(file_list, columns=['filename'])\n",
    "\n",
    "# 데이터프레임을 확인합니다.\n",
    "df_files"
   ]
  },
  {
   "cell_type": "code",
   "execution_count": 21,
   "id": "ad2f7b5f",
   "metadata": {},
   "outputs": [],
   "source": [
    "# Increasing the image size didn't result in increasing the training accuracy\n",
    "IMAGE_WIDTH = 320\n",
    "IMAGE_HEIGHT = 320\n",
    "IMAGE_SIZE=(IMAGE_WIDTH, IMAGE_HEIGHT)\n",
    "IMAGE_CHANNELS = 3\n",
    "\n",
    "\n",
    "# Dictionary to save our 9 classes\n",
    "categories = {0: 'battery', 1: 'biological', 2: 'cardboard', 3: 'clothes', 4: 'metal',\n",
    "              5: 'paper', 6: 'plastic', 7: 'shoes', 8: 'trash'}"
   ]
  },
  {
   "cell_type": "code",
   "execution_count": 22,
   "id": "ce34e8e0",
   "metadata": {},
   "outputs": [
    {
     "name": "stdout",
     "output_type": "stream",
     "text": [
      "number of elements =  13504\n"
     ]
    },
    {
     "data": {
      "text/html": [
       "<div>\n",
       "<style scoped>\n",
       "    .dataframe tbody tr th:only-of-type {\n",
       "        vertical-align: middle;\n",
       "    }\n",
       "\n",
       "    .dataframe tbody tr th {\n",
       "        vertical-align: top;\n",
       "    }\n",
       "\n",
       "    .dataframe thead th {\n",
       "        text-align: right;\n",
       "    }\n",
       "</style>\n",
       "<table border=\"1\" class=\"dataframe\">\n",
       "  <thead>\n",
       "    <tr style=\"text-align: right;\">\n",
       "      <th></th>\n",
       "      <th>filename</th>\n",
       "      <th>category</th>\n",
       "    </tr>\n",
       "  </thead>\n",
       "  <tbody>\n",
       "    <tr>\n",
       "      <th>0</th>\n",
       "      <td>cardboard379.jpg</td>\n",
       "      <td>2</td>\n",
       "    </tr>\n",
       "    <tr>\n",
       "      <th>1</th>\n",
       "      <td>cardboard546.jpg</td>\n",
       "      <td>2</td>\n",
       "    </tr>\n",
       "    <tr>\n",
       "      <th>2</th>\n",
       "      <td>paper46.jpg</td>\n",
       "      <td>5</td>\n",
       "    </tr>\n",
       "    <tr>\n",
       "      <th>3</th>\n",
       "      <td>clothes5000.jpg</td>\n",
       "      <td>3</td>\n",
       "    </tr>\n",
       "    <tr>\n",
       "      <th>4</th>\n",
       "      <td>clothes687.jpg</td>\n",
       "      <td>3</td>\n",
       "    </tr>\n",
       "    <tr>\n",
       "      <th>...</th>\n",
       "      <td>...</td>\n",
       "      <td>...</td>\n",
       "    </tr>\n",
       "    <tr>\n",
       "      <th>13499</th>\n",
       "      <td>battery631.jpg</td>\n",
       "      <td>0</td>\n",
       "    </tr>\n",
       "    <tr>\n",
       "      <th>13500</th>\n",
       "      <td>paper959.jpg</td>\n",
       "      <td>5</td>\n",
       "    </tr>\n",
       "    <tr>\n",
       "      <th>13501</th>\n",
       "      <td>trash224.jpg</td>\n",
       "      <td>8</td>\n",
       "    </tr>\n",
       "    <tr>\n",
       "      <th>13502</th>\n",
       "      <td>clothes846.jpg</td>\n",
       "      <td>3</td>\n",
       "    </tr>\n",
       "    <tr>\n",
       "      <th>13503</th>\n",
       "      <td>metal425.jpg</td>\n",
       "      <td>4</td>\n",
       "    </tr>\n",
       "  </tbody>\n",
       "</table>\n",
       "<p>13504 rows × 2 columns</p>\n",
       "</div>"
      ],
      "text/plain": [
       "               filename  category\n",
       "0      cardboard379.jpg         2\n",
       "1      cardboard546.jpg         2\n",
       "2           paper46.jpg         5\n",
       "3       clothes5000.jpg         3\n",
       "4        clothes687.jpg         3\n",
       "...                 ...       ...\n",
       "13499    battery631.jpg         0\n",
       "13500      paper959.jpg         5\n",
       "13501      trash224.jpg         8\n",
       "13502    clothes846.jpg         3\n",
       "13503      metal425.jpg         4\n",
       "\n",
       "[13504 rows x 2 columns]"
      ]
     },
     "execution_count": 22,
     "metadata": {},
     "output_type": "execute_result"
    }
   ],
   "source": [
    "# 파일 이름에서 카테고리를 추출하고 해당하는 정수 인덱스를 찾는 함수\n",
    "def extract_category_index(filename):\n",
    "    # 파일 이름에서 카테고리 이름을 추출합니다.\n",
    "    category_name = re.match(r'[a-zA-Z]+', filename).group()\n",
    "    # categories 딕셔너리에서 해당 카테고리 이름의 키(정수 인덱스)를 찾습니다.\n",
    "    for key, value in categories.items():\n",
    "        if value == category_name:\n",
    "            return key\n",
    "    # 해당 카테고리가 딕셔너리에 없는 경우\n",
    "    return None\n",
    "\n",
    "# 카테고리별로 파일을 분류합니다.\n",
    "df_files['category'] = df_files['filename'].apply(lambda x: extract_category_index(x))\n",
    "\n",
    "# 데이터프레임을 섞습니다.\n",
    "df_files = df_files.sample(frac=1).reset_index(drop=True)\n",
    "\n",
    "print('number of elements = ', len(df_files))\n",
    "df_files\n"
   ]
  },
  {
   "cell_type": "code",
   "execution_count": 23,
   "id": "0bb1b593",
   "metadata": {},
   "outputs": [
    {
     "data": {
      "image/png": "[encoded data removed]",
      "text/plain": [
       "<Figure size 640x480 with 1 Axes>"
      ]
     },
     "metadata": {},
     "output_type": "display_data"
    }
   ],
   "source": [
    "# 데이터의 분포 확인\n",
    "df_visualization = df_files.copy()\n",
    "# Change the catgegories from numbers to names\n",
    "df_visualization['category'] = df_visualization['category'].apply(lambda x:categories[x] )\n",
    "\n",
    "df_visualization['category'].value_counts().plot.bar(x = 'count', y = 'category' )\n",
    "\n",
    "plt.xlabel(\"Garbage Classes\", labelpad=14)\n",
    "plt.ylabel(\"Images Count\", labelpad=14)\n",
    "plt.title(\"Count of images per class\", y=1.02);"
   ]
  },
  {
   "cell_type": "markdown",
   "id": "960ad16c",
   "metadata": {},
   "source": [
    "사전 학습 모델을 이용한 전이학습"
   ]
  },
  {
   "cell_type": "code",
   "execution_count": 24,
   "id": "6e1c5e60",
   "metadata": {},
   "outputs": [
    {
     "name": "stdout",
     "output_type": "stream",
     "text": [
      "Model: \"sequential_1\"\n",
      "_________________________________________________________________\n",
      " Layer (type)                Output Shape              Param #   \n",
      "=================================================================\n",
      " lambda_1 (Lambda)           (None, 320, 320, 3)       0         \n",
      "                                                                 \n",
      " xception (Functional)       (None, 10, 10, 2048)      20861480  \n",
      "                                                                 \n",
      " global_average_pooling2d_1   (None, 2048)             0         \n",
      " (GlobalAveragePooling2D)                                        \n",
      "                                                                 \n",
      " dense_1 (Dense)             (None, 9)                 18441     \n",
      "                                                                 \n",
      "=================================================================\n",
      "Total params: 20,879,921\n",
      "Trainable params: 18,441\n",
      "Non-trainable params: 20,861,480\n",
      "_________________________________________________________________\n"
     ]
    }
   ],
   "source": [
    "from keras.models import Sequential\n",
    "from keras.layers import Conv2D, MaxPooling2D, Dropout, Flatten, Dense, Activation, BatchNormalization\n",
    "import keras.applications.xception as xception\n",
    "\n",
    "xception_layer = xception.Xception(include_top = False, input_shape = (IMAGE_WIDTH, IMAGE_HEIGHT,IMAGE_CHANNELS),\n",
    "                       weights = 'imagenet')\n",
    "\n",
    "# We don't want to train the imported weights\n",
    "xception_layer.trainable = False\n",
    "\n",
    "\n",
    "model = Sequential()\n",
    "model.add(keras.Input(shape=(IMAGE_WIDTH, IMAGE_HEIGHT, IMAGE_CHANNELS)))\n",
    "\n",
    "#create a custom layer to apply the preprocessing\n",
    "def xception_preprocessing(img):\n",
    "    return xception.preprocess_input(img)\n",
    "\n",
    "model.add(Lambda(xception_preprocessing))\n",
    "\n",
    "model.add(xception_layer)\n",
    "model.add(tf.keras.layers.GlobalAveragePooling2D())\n",
    "model.add(Dense(len(categories), activation='softmax')) \n",
    "\n",
    "model.compile(loss='categorical_crossentropy', optimizer='adam', metrics=['categorical_accuracy'])\n",
    "\n",
    "model.summary()"
   ]
  },
  {
   "cell_type": "code",
   "execution_count": 25,
   "id": "4d4d7b98",
   "metadata": {},
   "outputs": [],
   "source": [
    "early_stop = EarlyStopping(patience = 2, verbose = 1, monitor='val_categorical_accuracy' , mode='max', min_delta=0.001, restore_best_weights = True)\n",
    "\n",
    "callbacks = [early_stop]"
   ]
  },
  {
   "cell_type": "code",
   "execution_count": 26,
   "id": "b2a06726",
   "metadata": {},
   "outputs": [
    {
     "name": "stdout",
     "output_type": "stream",
     "text": [
      "train size =  1350 validate size =  1350 test size =  1351\n"
     ]
    }
   ],
   "source": [
    "#Change the categories from numbers to names\n",
    "df_files[\"category\"] = df_files[\"category\"].replace(categories) \n",
    "\n",
    "# We first split the data into two sets and then split the validate_df to two sets\n",
    "train_df, validate_df = train_test_split(df_files, test_size=0.2, random_state=42)\n",
    "validate_df, test_df = train_test_split(validate_df, test_size=0.5, random_state=42)\n",
    "\n",
    "train_df = train_df.reset_index(drop=True)\n",
    "validate_df = validate_df.reset_index(drop=True)\n",
    "test_df = test_df.reset_index(drop=True)\n",
    "\n",
    "total_train = train_df.shape[0]\n",
    "total_validate = validate_df.shape[0]\n",
    "\n",
    "print('train size = ', total_validate , 'validate size = ', total_validate, 'test size = ', test_df.shape[0])"
   ]
  },
  {
   "cell_type": "code",
   "execution_count": 27,
   "id": "e7436e6e",
   "metadata": {},
   "outputs": [
    {
     "name": "stdout",
     "output_type": "stream",
     "text": [
      "Found 10803 validated image filenames belonging to 9 classes.\n"
     ]
    }
   ],
   "source": [
    "batch_size=64\n",
    "\n",
    "train_datagen = image.ImageDataGenerator(\n",
    "    \n",
    "    ###  Augmentation Start  ###\n",
    "    \n",
    "    rotation_range=30,\n",
    "    shear_range=0.1,\n",
    "    zoom_range=0.3,\n",
    "    horizontal_flip=True,\n",
    "    vertical_flip = True,\n",
    "    width_shift_range=0.2,\n",
    "    height_shift_range=0.2\n",
    "    \n",
    "    ##  Augmentation End  ###\n",
    ")\n",
    "\n",
    "train_generator = train_datagen.flow_from_dataframe(\n",
    "    train_df,  # train_df는 학습 데이터를 담고 있는 DataFrame\n",
    "    target_dir,  # 위에서 설정한 절대 경로\n",
    "    x_col='filename',  # 이미지 파일 이름\n",
    "    y_col='category',  # 이미지 카테고리\n",
    "    target_size=IMAGE_SIZE,  # 이미지의 타겟 크기\n",
    "    class_mode='categorical',  # 다중 분류 설정\n",
    "    batch_size=batch_size  # 배치 크기\n",
    ")\n"
   ]
  },
  {
   "cell_type": "code",
   "execution_count": 28,
   "id": "427573ab",
   "metadata": {},
   "outputs": [
    {
     "name": "stdout",
     "output_type": "stream",
     "text": [
      "Found 1350 validated image filenames belonging to 9 classes.\n"
     ]
    }
   ],
   "source": [
    "validation_datagen = image.ImageDataGenerator()\n",
    "\n",
    "validation_generator = validation_datagen.flow_from_dataframe(\n",
    "    validate_df, \n",
    "    target_dir, \n",
    "    x_col='filename',\n",
    "    y_col='category',\n",
    "    target_size=IMAGE_SIZE,\n",
    "    class_mode='categorical',\n",
    "    batch_size=batch_size\n",
    ")"
   ]
  },
  {
   "cell_type": "code",
   "execution_count": 29,
   "id": "74253930",
   "metadata": {},
   "outputs": [
    {
     "name": "stdout",
     "output_type": "stream",
     "text": [
      "Epoch 1/20\n",
      "168/168 [==============================] - 2025s 12s/step - loss: 0.6016 - categorical_accuracy: 0.8423 - val_loss: 0.2317 - val_categorical_accuracy: 0.9449\n",
      "Epoch 2/20\n",
      "168/168 [==============================] - 1808s 11s/step - loss: 0.2653 - categorical_accuracy: 0.9248 - val_loss: 0.1675 - val_categorical_accuracy: 0.9561\n",
      "Epoch 3/20\n",
      "168/168 [==============================] - 1712s 10s/step - loss: 0.2139 - categorical_accuracy: 0.9367 - val_loss: 0.1483 - val_categorical_accuracy: 0.9606\n",
      "Epoch 4/20\n",
      "168/168 [==============================] - 2525s 15s/step - loss: 0.1903 - categorical_accuracy: 0.9452 - val_loss: 0.1375 - val_categorical_accuracy: 0.9613\n",
      "Epoch 5/20\n",
      "168/168 [==============================] - 1779s 11s/step - loss: 0.1737 - categorical_accuracy: 0.9454 - val_loss: 0.1301 - val_categorical_accuracy: 0.9621\n",
      "Epoch 6/20\n",
      "168/168 [==============================] - 2042s 12s/step - loss: 0.1628 - categorical_accuracy: 0.9508 - val_loss: 0.1228 - val_categorical_accuracy: 0.9613\n",
      "Epoch 7/20\n",
      "168/168 [==============================] - ETA: 0s - loss: 0.1609 - categorical_accuracy: 0.9516 Restoring model weights from the end of the best epoch: 5.\n",
      "168/168 [==============================] - 1912s 11s/step - loss: 0.1609 - categorical_accuracy: 0.9516 - val_loss: 0.1178 - val_categorical_accuracy: 0.9598\n",
      "Epoch 7: early stopping\n"
     ]
    }
   ],
   "source": [
    "EPOCHS = 20\n",
    "history = model.fit_generator(\n",
    "    train_generator, \n",
    "    epochs=EPOCHS,\n",
    "    validation_data=validation_generator,\n",
    "    validation_steps=total_validate//batch_size,\n",
    "    steps_per_epoch=total_train//batch_size,\n",
    "    callbacks=callbacks\n",
    ")"
   ]
  },
  {
   "cell_type": "markdown",
   "id": "4d4c3179",
   "metadata": {},
   "source": [
    "전이 학습 모델 생성 후 저장"
   ]
  },
  {
   "cell_type": "code",
   "execution_count": 30,
   "id": "8ed0acb9",
   "metadata": {},
   "outputs": [],
   "source": [
    "model.save_weights(\"model.cap_beta\")"
   ]
  },
  {
   "cell_type": "code",
   "execution_count": 31,
   "id": "8f4a0dcc",
   "metadata": {},
   "outputs": [
    {
     "name": "stdout",
     "output_type": "stream",
     "text": [
      "Found 1351 validated image filenames belonging to 9 classes.\n"
     ]
    }
   ],
   "source": [
    "test_datagen = image.ImageDataGenerator()\n",
    "\n",
    "test_generator = test_datagen.flow_from_dataframe(\n",
    "    dataframe= test_df,\n",
    "    directory=target_dir,\n",
    "    x_col='filename',\n",
    "    y_col='category',\n",
    "    target_size=IMAGE_SIZE,\n",
    "    color_mode=\"rgb\",\n",
    "    class_mode=\"categorical\",\n",
    "    batch_size=1,\n",
    "    shuffle=False \n",
    ")"
   ]
  },
  {
   "cell_type": "code",
   "execution_count": 32,
   "id": "e0e7f176",
   "metadata": {},
   "outputs": [
    {
     "name": "stdout",
     "output_type": "stream",
     "text": [
      "accuracy on test set =  95.78 % \n"
     ]
    }
   ],
   "source": [
    "filenames = test_generator.filenames\n",
    "nb_samples = len(filenames)\n",
    "\n",
    "_, accuracy = model.evaluate_generator(test_generator, nb_samples)\n",
    "\n",
    "print('accuracy on test set = ',  round((accuracy * 100),2 ), '% ') "
   ]
  }
 ],
 "metadata": {
  "kernelspec": {
   "display_name": "Python 3 (ipykernel)",
   "language": "python",
   "name": "python3"
  },
  "language_info": {
   "codemirror_mode": {
    "name": "ipython",
    "version": 3
   },
   "file_extension": ".py",
   "mimetype": "text/x-python",
   "name": "python",
   "nbconvert_exporter": "python",
   "pygments_lexer": "ipython3",
   "version": "3.11.5"
  }
 },
 "nbformat": 4,
 "nbformat_minor": 5
}
