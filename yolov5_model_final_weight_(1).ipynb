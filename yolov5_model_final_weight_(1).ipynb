{
  "nbformat": 4,
  "nbformat_minor": 0,
  "metadata": {
    "colab": {
      "private_outputs": true,
      "provenance": []
    },
    "kernelspec": {
      "name": "python3",
      "display_name": "Python 3"
    },
    "language_info": {
      "name": "python"
    }
  },
  "cells": [
    {
      "cell_type": "markdown",
      "source": [
        "## 꼭 T4 GPU로 돌리기"
      ],
      "metadata": {
        "id": "EGQ2SRwMvMQR"
      }
    },
    {
      "cell_type": "code",
      "execution_count": null,
      "metadata": {
        "id": "ygKgnUBVvLM0"
      },
      "outputs": [],
      "source": [
        "!pip install roboflow"
      ]
    },
    {
      "cell_type": "code",
      "source": [
        "from roboflow import Roboflow\n",
        "rf = Roboflow(api_key=\"D9KL1XhF9yRvyI2zM2i8\")\n",
        "project = rf.workspace(\"capstone-rc3ka\").project(\"capstone-ffdco\")\n",
        "version = project.version(2)\n",
        "dataset = version.download(\"yolov5\")\n"
      ],
      "metadata": {
        "id": "JkyWxVnjvQKz"
      },
      "execution_count": null,
      "outputs": []
    },
    {
      "cell_type": "code",
      "source": [
        "!git clone https://github.com/ultralytics/yolov5"
      ],
      "metadata": {
        "id": "Gpa5I4ybvQJB"
      },
      "execution_count": null,
      "outputs": []
    },
    {
      "cell_type": "code",
      "source": [
        "%mv /content/capstone-2 /content/yolov5/"
      ],
      "metadata": {
        "id": "aD7fYcixvQEy"
      },
      "execution_count": null,
      "outputs": []
    },
    {
      "cell_type": "code",
      "source": [
        "%cd yolov5"
      ],
      "metadata": {
        "id": "zruTMOekvQCv"
      },
      "execution_count": null,
      "outputs": []
    },
    {
      "cell_type": "code",
      "source": [
        "!pip install -r requirements.txt"
      ],
      "metadata": {
        "id": "QT9fSs9qvVS9"
      },
      "execution_count": null,
      "outputs": []
    },
    {
      "cell_type": "code",
      "source": [
        "from glob import glob #이미지를 한번에 긁어모으기 위한 glob 모듈\n",
        "\n",
        "img_list = glob('/content/yolov5/capstone-2/train/images/*.jpg') # 트레인 이미지 경로\n",
        "val_img_list = glob('/content/yolov5/capstone-2/valid/images/*.jpg') # 테스트 이미지 경로"
      ],
      "metadata": {
        "id": "XFNUlPC6vVP8"
      },
      "execution_count": null,
      "outputs": []
    },
    {
      "cell_type": "code",
      "source": [
        "with open('/content/yolov5/capstone-2/train.txt', 'w') as f:\n",
        "    f.write('\\n'.join(img_list) + '\\n')\n",
        "\n",
        "\n",
        "with open('/content/yolov5/capstone-2/valid.txt', 'w') as f:\n",
        "    f.write('\\n'.join(val_img_list) + '\\n')"
      ],
      "metadata": {
        "id": "qP3wgohmvVM5"
      },
      "execution_count": null,
      "outputs": []
    },
    {
      "cell_type": "code",
      "source": [
        "!pip install -U pyYAML"
      ],
      "metadata": {
        "id": "ym1gkru0vVKv"
      },
      "execution_count": null,
      "outputs": []
    },
    {
      "cell_type": "code",
      "source": [
        "!python train.py --img 640 --batch 30 --epochs 100 --data capstone-2/data.yaml --cfg models/yolov5s.yaml --weights yolov5s.pt --name yolo_run"
      ],
      "metadata": {
        "id": "DE7nJz6lvVIp"
      },
      "execution_count": null,
      "outputs": []
    },
    {
      "cell_type": "code",
      "source": [
        "!python detect.py --weight \"/content/yolov5/runs/train/yolo_run/weights/best.pt\" --source \"/content/yolov5/capstone-2/test/images\""
      ],
      "metadata": {
        "id": "xJg9wvQZveOx"
      },
      "execution_count": null,
      "outputs": []
    },
    {
      "cell_type": "markdown",
      "source": [
        "## 이미지 결과 확인"
      ],
      "metadata": {
        "id": "MNXOdGHpvgS3"
      }
    },
    {
      "cell_type": "code",
      "source": [
        "import cv2\n",
        "import matplotlib.pyplot as plt\n",
        "from glob import glob\n",
        "\n",
        "img_paths = glob(\"/content/yolov5/runs/detect/exp/styrofoam-10-_jpg.rf.d9cd24e391c510184481b772e17d8beb.jpg\")\n",
        "\n",
        "img = cv2.imread(img_paths[0])\n",
        "plt.figure(figsize=(10,6))\n",
        "plt.imshow(img)\n",
        "plt.show()"
      ],
      "metadata": {
        "id": "QiQXPJVIvf_p"
      },
      "execution_count": null,
      "outputs": []
    }
  ]
}