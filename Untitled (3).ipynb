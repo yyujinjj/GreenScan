{
  "nbformat": 4,
  "nbformat_minor": 0,
  "metadata": {
    "colab": {
      "private_outputs": true,
      "provenance": []
    },
    "kernelspec": {
      "name": "python3",
      "display_name": "Python 3"
    },
    "language_info": {
      "name": "python"
    }
  },
  "cells": [
    {
      "cell_type": "code",
      "source": [
        "\"\"\"\n",
        "Run a Flask REST API exposing one or more YOLOv5s models\n",
        "\"\"\"\n",
        "\n",
        "# app.py\n",
        "\n",
        "import numpy as np\n",
        "import cv2\n",
        "import torch\n",
        "import pathlib\n",
        "from pathlib import Path\n",
        "pathlib.PosixPath = pathlib.WindowsPath\n",
        "\n",
        "print(cv2.__version__)\n",
        "model = torch.hub.load('ultralytics/yolov5', 'custom', path='best.pt', force_reload=True)\n",
        "classes = []\n",
        "with open('classes.txt', 'r') as f:\n",
        "    for line in f:\n",
        "        classes.append(line.strip())\n",
        "\n",
        "def yolo(img_path):\n",
        "    img = cv2.imread(img_path)\n",
        "    img = cv2.resize(img, (416, 416))\n",
        "    results = model(img)\n",
        "    Label, Bbox, Confidence = [], [], []\n",
        "    for res in results.pandas().xyxy[0].iterrows():\n",
        "        if res[1]['confidence'] > 0.2:\n",
        "            (x1, y1, x2, y2) = (res[1]['xmin'], res[1]['ymin'], res[1]['xmax'], res[1]['ymax'])\n",
        "            bbox = (x1, y1, x2, y2)\n",
        "            ClassName = classes[int(res[1]['class'])]\n",
        "            Label.append(ClassName)\n",
        "            Bbox.append(bbox)\n",
        "            Confidence.append(res[1]['confidence'])\n",
        "            # Draw bounding box on image\n",
        "            cv2.rectangle(img, (int(x1), int(y1)), (int(x2), int(y2)), (0, 255, 0), 2)\n",
        "            cv2.putText(img, f'{ClassName} {res[1][\"confidence\"]:.2f}', (int(x1), int(y1) - 10),\n",
        "                        cv2.FONT_HERSHEY_SIMPLEX, 0.9, (0, 255, 0), 2)\n",
        "    output_path = img_path.replace('.jpg', '_result.jpg')\n",
        "    cv2.imwrite(output_path, img)\n",
        "    return Label, Bbox, Confidence, output_path"
      ],
      "metadata": {
        "id": "NLQvNr_9kXx9"
      },
      "execution_count": null,
      "outputs": []
    }
  ]
}