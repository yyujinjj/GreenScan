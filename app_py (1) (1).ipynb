{
  "nbformat": 4,
  "nbformat_minor": 0,
  "metadata": {
    "colab": {
      "private_outputs": true,
      "provenance": []
    },
    "kernelspec": {
      "name": "python3",
      "display_name": "Python 3"
    },
    "language_info": {
      "name": "python"
    }
  },
  "cells": [
    {
      "cell_type": "code",
      "source": [
        "import os\n",
        "from flask import Flask, render_template, request\n",
        "import functions\n",
        "import cv2\n",
        "\n",
        "os.environ['TF_CPP_MIN_LOG_LEVEL'] = '2'\n",
        "app = Flask(__name__, static_folder='static')\n",
        "\n",
        "@app.route(\"/\", methods=['GET', 'POST'])\n",
        "def main():\n",
        "    return render_template(\"index.html\")\n",
        "\n",
        "@app.route(\"/submit\", methods=['POST'])\n",
        "def get_output():\n",
        "    if request.method == 'POST':\n",
        "        img = request.files['image']\n",
        "        img_path = os.path.join('static/uploads', img.filename)\n",
        "        img.save(img_path)\n",
        "\n",
        "        label, bbox, confidence, output_path = functions.yolo(img_path)\n",
        "        print(label)\n",
        "\n",
        "        try:\n",
        "            os.remove(img_path)\n",
        "        except Exception as e:\n",
        "            print(f\"Error removing file: {e}\")\n",
        "\n",
        "        return render_template('index.html', Prediction=label, img_name=os.path.basename(output_path))\n",
        "\n",
        "if __name__ == '__main__':\n",
        "    app.run(debug=True)"
      ],
      "metadata": {
        "id": "NLQvNr_9kXx9"
      },
      "execution_count": null,
      "outputs": []
    }
  ]
}