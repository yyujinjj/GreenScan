{
  "nbformat": 4,
  "nbformat_minor": 0,
  "metadata": {
    "colab": {
      "private_outputs": true,
      "provenance": []
    },
    "kernelspec": {
      "name": "python3",
      "display_name": "Python 3"
    },
    "language_info": {
      "name": "python"
    }
  },
  "cells": [
    {
      "cell_type": "code",
      "execution_count": null,
      "metadata": {
        "id": "9_1KbgtMI2Et"
      },
      "outputs": [],
      "source": [
        "!pip install roboflow"
      ]
    },
    {
      "cell_type": "code",
      "source": [
        "from roboflow import Roboflow\n",
        "rf = Roboflow(api_key=\"D9KL1XhF9yRvyI2zM2i8\")\n",
        "project = rf.workspace(\"capstone-rc3ka\").project(\"capstone-ffdco\")\n",
        "version = project.version(2)\n",
        "dataset = version.download(\"yolov5\")"
      ],
      "metadata": {
        "id": "z5mNEYF2I5Yd"
      },
      "execution_count": null,
      "outputs": []
    },
    {
      "cell_type": "code",
      "source": [
        "!git clone https://github.com/ultralytics/yolov5"
      ],
      "metadata": {
        "id": "4BF1y2iVI6YT"
      },
      "execution_count": null,
      "outputs": []
    },
    {
      "cell_type": "code",
      "source": [
        "%mv /content/capstone-2 /content/yolov5/"
      ],
      "metadata": {
        "id": "_HK8vFkSKKUi"
      },
      "execution_count": null,
      "outputs": []
    },
    {
      "cell_type": "code",
      "source": [
        "%cd yolov5"
      ],
      "metadata": {
        "id": "7YNMBXm6KM8S"
      },
      "execution_count": null,
      "outputs": []
    },
    {
      "cell_type": "code",
      "source": [
        "!pip install -r requirements.txt"
      ],
      "metadata": {
        "id": "UPNiP6bBKPCv"
      },
      "execution_count": null,
      "outputs": []
    },
    {
      "cell_type": "code",
      "source": [
        "from glob import glob #이미지를 한번에 긁어모으기 위한 glob 모듈\n",
        "\n",
        "img_list = glob('/content/yolov5/capstone-2/train/images/*.jpg') # 트레인 이미지 경로\n",
        "val_img_list = glob('/content/yolov5/capstone-2/valid/images/*.jpg') # 테스트 이미지 경로"
      ],
      "metadata": {
        "id": "K-JG-M_iKTeK"
      },
      "execution_count": null,
      "outputs": []
    },
    {
      "cell_type": "code",
      "source": [
        "with open('/content/yolov5/capstone-2/train.txt', 'w') as f:\n",
        "    f.write('\\n'.join(img_list) + '\\n')\n",
        "\n",
        "\n",
        "with open('/content/yolov5/capstone-2/valid.txt', 'w') as f:\n",
        "    f.write('\\n'.join(val_img_list) + '\\n')"
      ],
      "metadata": {
        "id": "7hzTqJ2hKVtj"
      },
      "execution_count": null,
      "outputs": []
    },
    {
      "cell_type": "code",
      "source": [
        "!pip install -U pyYAML"
      ],
      "metadata": {
        "id": "8WTDxMIkKX73"
      },
      "execution_count": null,
      "outputs": []
    },
    {
      "cell_type": "code",
      "source": [
        "!python train.py --img 640 --batch 30 --epochs 100 --data capstone-2/data.yaml --cfg models/yolov5s.yaml --weights yolov5s.pt --name yolo_run"
      ],
      "metadata": {
        "id": "N9TEY1BJKcbm"
      },
      "execution_count": null,
      "outputs": []
    },
    {
      "cell_type": "code",
      "source": [
        "!python export.py --weights runs/train/yolo_run/weights/best.pt --include onnx --optimize --simplify --int8"
      ],
      "metadata": {
        "id": "ngEkA-84KgFk"
      },
      "execution_count": null,
      "outputs": []
    },
    {
      "cell_type": "code",
      "source": [
        "!python detect.py --weight \"/content/yolov5/runs/train/yolo_run/weights/best.onnx\" --source \"/content/yolov5/capstone-2/test/images\""
      ],
      "metadata": {
        "id": "abAKz_3_Kkvp"
      },
      "execution_count": null,
      "outputs": []
    }
  ]
}